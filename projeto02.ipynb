{
 "cells": [
  {
   "attachments": {},
   "cell_type": "markdown",
   "metadata": {},
   "source": [
    "# Projeto Ações e Email automático\n",
    "\n",
    "Passo a passo do problema\n",
    "- Buscar as informações da ação automaticamente\n",
    "- Criar as análises solicitadas\n",
    "    - Cotação Máx.\n",
    "    - Cotação Mín.\n",
    "    - Valor médio\n",
    "- Enviar um email automaticamente para o gestor"
   ]
  },
  {
   "attachments": {},
   "cell_type": "markdown",
   "metadata": {},
   "source": [
    "#### Buscar dados da ação\n",
    "\n",
    "Bibliotecas: `yfinance e matplotlib` "
   ]
  },
  {
   "cell_type": "code",
   "execution_count": 1,
   "metadata": {},
   "outputs": [],
   "source": [
    "import pyautogui\n",
    "import yfinance\n",
    "import pyperclip\n",
    "import webbrowser\n",
    "import time"
   ]
  },
  {
   "cell_type": "code",
   "execution_count": 4,
   "metadata": {},
   "outputs": [
    {
     "data": {
      "text/html": [
       "<div>\n",
       "<style scoped>\n",
       "    .dataframe tbody tr th:only-of-type {\n",
       "        vertical-align: middle;\n",
       "    }\n",
       "\n",
       "    .dataframe tbody tr th {\n",
       "        vertical-align: top;\n",
       "    }\n",
       "\n",
       "    .dataframe thead th {\n",
       "        text-align: right;\n",
       "    }\n",
       "</style>\n",
       "<table border=\"1\" class=\"dataframe\">\n",
       "  <thead>\n",
       "    <tr style=\"text-align: right;\">\n",
       "      <th></th>\n",
       "      <th>Open</th>\n",
       "      <th>High</th>\n",
       "      <th>Low</th>\n",
       "      <th>Close</th>\n",
       "      <th>Volume</th>\n",
       "      <th>Dividends</th>\n",
       "      <th>Stock Splits</th>\n",
       "    </tr>\n",
       "    <tr>\n",
       "      <th>Date</th>\n",
       "      <th></th>\n",
       "      <th></th>\n",
       "      <th></th>\n",
       "      <th></th>\n",
       "      <th></th>\n",
       "      <th></th>\n",
       "      <th></th>\n",
       "    </tr>\n",
       "  </thead>\n",
       "  <tbody>\n",
       "    <tr>\n",
       "      <th>2023-01-02 00:00:00-03:00</th>\n",
       "      <td>109734.0</td>\n",
       "      <td>109734.0</td>\n",
       "      <td>105981.0</td>\n",
       "      <td>106376.0</td>\n",
       "      <td>8130500</td>\n",
       "      <td>0.0</td>\n",
       "      <td>0.0</td>\n",
       "    </tr>\n",
       "    <tr>\n",
       "      <th>2023-01-03 00:00:00-03:00</th>\n",
       "      <td>106377.0</td>\n",
       "      <td>106684.0</td>\n",
       "      <td>103852.0</td>\n",
       "      <td>104166.0</td>\n",
       "      <td>14466700</td>\n",
       "      <td>0.0</td>\n",
       "      <td>0.0</td>\n",
       "    </tr>\n",
       "    <tr>\n",
       "      <th>2023-01-04 00:00:00-03:00</th>\n",
       "      <td>104167.0</td>\n",
       "      <td>105627.0</td>\n",
       "      <td>103915.0</td>\n",
       "      <td>105334.0</td>\n",
       "      <td>14451200</td>\n",
       "      <td>0.0</td>\n",
       "      <td>0.0</td>\n",
       "    </tr>\n",
       "    <tr>\n",
       "      <th>2023-01-05 00:00:00-03:00</th>\n",
       "      <td>105336.0</td>\n",
       "      <td>107743.0</td>\n",
       "      <td>105333.0</td>\n",
       "      <td>107518.0</td>\n",
       "      <td>15512000</td>\n",
       "      <td>0.0</td>\n",
       "      <td>0.0</td>\n",
       "    </tr>\n",
       "    <tr>\n",
       "      <th>2023-01-06 00:00:00-03:00</th>\n",
       "      <td>107642.0</td>\n",
       "      <td>109433.0</td>\n",
       "      <td>107642.0</td>\n",
       "      <td>108836.0</td>\n",
       "      <td>12626600</td>\n",
       "      <td>0.0</td>\n",
       "      <td>0.0</td>\n",
       "    </tr>\n",
       "    <tr>\n",
       "      <th>...</th>\n",
       "      <td>...</td>\n",
       "      <td>...</td>\n",
       "      <td>...</td>\n",
       "      <td>...</td>\n",
       "      <td>...</td>\n",
       "      <td>...</td>\n",
       "      <td>...</td>\n",
       "    </tr>\n",
       "    <tr>\n",
       "      <th>2023-12-21 00:00:00-03:00</th>\n",
       "      <td>130826.0</td>\n",
       "      <td>132277.0</td>\n",
       "      <td>130822.0</td>\n",
       "      <td>132182.0</td>\n",
       "      <td>8681000</td>\n",
       "      <td>0.0</td>\n",
       "      <td>0.0</td>\n",
       "    </tr>\n",
       "    <tr>\n",
       "      <th>2023-12-22 00:00:00-03:00</th>\n",
       "      <td>132553.0</td>\n",
       "      <td>133035.0</td>\n",
       "      <td>132094.0</td>\n",
       "      <td>132753.0</td>\n",
       "      <td>8231100</td>\n",
       "      <td>0.0</td>\n",
       "      <td>0.0</td>\n",
       "    </tr>\n",
       "    <tr>\n",
       "      <th>2023-12-26 00:00:00-03:00</th>\n",
       "      <td>132753.0</td>\n",
       "      <td>133645.0</td>\n",
       "      <td>132753.0</td>\n",
       "      <td>133533.0</td>\n",
       "      <td>0</td>\n",
       "      <td>0.0</td>\n",
       "      <td>0.0</td>\n",
       "    </tr>\n",
       "    <tr>\n",
       "      <th>2023-12-27 00:00:00-03:00</th>\n",
       "      <td>133523.0</td>\n",
       "      <td>134195.0</td>\n",
       "      <td>133328.0</td>\n",
       "      <td>134194.0</td>\n",
       "      <td>6168200</td>\n",
       "      <td>0.0</td>\n",
       "      <td>0.0</td>\n",
       "    </tr>\n",
       "    <tr>\n",
       "      <th>2023-12-28 00:00:00-03:00</th>\n",
       "      <td>134194.0</td>\n",
       "      <td>134392.0</td>\n",
       "      <td>133832.0</td>\n",
       "      <td>134185.0</td>\n",
       "      <td>7812700</td>\n",
       "      <td>0.0</td>\n",
       "      <td>0.0</td>\n",
       "    </tr>\n",
       "  </tbody>\n",
       "</table>\n",
       "<p>248 rows × 7 columns</p>\n",
       "</div>"
      ],
      "text/plain": [
       "                               Open      High       Low     Close    Volume  \\\n",
       "Date                                                                          \n",
       "2023-01-02 00:00:00-03:00  109734.0  109734.0  105981.0  106376.0   8130500   \n",
       "2023-01-03 00:00:00-03:00  106377.0  106684.0  103852.0  104166.0  14466700   \n",
       "2023-01-04 00:00:00-03:00  104167.0  105627.0  103915.0  105334.0  14451200   \n",
       "2023-01-05 00:00:00-03:00  105336.0  107743.0  105333.0  107518.0  15512000   \n",
       "2023-01-06 00:00:00-03:00  107642.0  109433.0  107642.0  108836.0  12626600   \n",
       "...                             ...       ...       ...       ...       ...   \n",
       "2023-12-21 00:00:00-03:00  130826.0  132277.0  130822.0  132182.0   8681000   \n",
       "2023-12-22 00:00:00-03:00  132553.0  133035.0  132094.0  132753.0   8231100   \n",
       "2023-12-26 00:00:00-03:00  132753.0  133645.0  132753.0  133533.0         0   \n",
       "2023-12-27 00:00:00-03:00  133523.0  134195.0  133328.0  134194.0   6168200   \n",
       "2023-12-28 00:00:00-03:00  134194.0  134392.0  133832.0  134185.0   7812700   \n",
       "\n",
       "                           Dividends  Stock Splits  \n",
       "Date                                                \n",
       "2023-01-02 00:00:00-03:00        0.0           0.0  \n",
       "2023-01-03 00:00:00-03:00        0.0           0.0  \n",
       "2023-01-04 00:00:00-03:00        0.0           0.0  \n",
       "2023-01-05 00:00:00-03:00        0.0           0.0  \n",
       "2023-01-06 00:00:00-03:00        0.0           0.0  \n",
       "...                              ...           ...  \n",
       "2023-12-21 00:00:00-03:00        0.0           0.0  \n",
       "2023-12-22 00:00:00-03:00        0.0           0.0  \n",
       "2023-12-26 00:00:00-03:00        0.0           0.0  \n",
       "2023-12-27 00:00:00-03:00        0.0           0.0  \n",
       "2023-12-28 00:00:00-03:00        0.0           0.0  \n",
       "\n",
       "[248 rows x 7 columns]"
      ]
     },
     "execution_count": 4,
     "metadata": {},
     "output_type": "execute_result"
    }
   ],
   "source": [
    "ticker = input(\"Digite o código da ação desejada: \")\n",
    "dt_inicial = input(\"Digite a data inicial (aaaa-mm-dd): \")\n",
    "dt_final = input(\"Digite a data final (aaaa-mm-dd): \")\n",
    "dados = yfinance.Ticker(ticker)\n",
    "tabela=dados.history(start=dt_inicial, end=dt_final)\n",
    "tabela"
   ]
  },
  {
   "cell_type": "markdown",
   "metadata": {},
   "source": [
    "#### Apenas a coluna de saída e gerar um gráfico"
   ]
  },
  {
   "cell_type": "code",
   "execution_count": 8,
   "metadata": {},
   "outputs": [
    {
     "data": {
      "text/plain": [
       "<Axes: xlabel='Date'>"
      ]
     },
     "execution_count": 8,
     "metadata": {},
     "output_type": "execute_result"
    },
    {
     "data": {
      "image/png": "[encoded data removed]",
      "text/plain": [
       "<Figure size 640x480 with 1 Axes>"
      ]
     },
     "metadata": {},
     "output_type": "display_data"
    }
   ],
   "source": [
    "fechamento = tabela.Close\n",
    "fechamento\n",
    "fechamento.plot()"
   ]
  },
  {
   "attachments": {},
   "cell_type": "markdown",
   "metadata": {},
   "source": [
    "#### Criar as análises solicitadas\n",
    "\n",
    "- Cotação Máx\n",
    "- Cotação Mín\n",
    "- Valor Médio"
   ]
  },
  {
   "cell_type": "code",
   "execution_count": 9,
   "metadata": {},
   "outputs": [
    {
     "name": "stdout",
     "output_type": "stream",
     "text": [
      "134194.0\n",
      "97926.0\n",
      "114194.02\n"
     ]
    }
   ],
   "source": [
    "maxima = round(fechamento.max(), 2)\n",
    "minima = round(fechamento.min(), 2)\n",
    "valor_medio = round(fechamento.mean(), 2)\n",
    "\n",
    "print(maxima)\n",
    "print(minima)\n",
    "print(valor_medio)"
   ]
  },
  {
   "attachments": {},
   "cell_type": "markdown",
   "metadata": {},
   "source": [
    "#### Enviar o e-mail automaticamente\n",
    "\n",
    "- abrir o navegador e ir para o gmail\n",
    "- clicar no botão Escrever\n",
    "- Digitar o e-mail do destinatário e teclar TAB\n",
    "- Digitar o assunto e teclar TAB\n",
    "- Digitar mensagem\n",
    "- Clicar no botão enviar"
   ]
  },
  {
   "attachments": {},
   "cell_type": "markdown",
   "metadata": {},
   "source": [
    "#### Bibliotecas"
   ]
  },
  {
   "cell_type": "code",
   "execution_count": 22,
   "metadata": {},
   "outputs": [],
   "source": [
    "import pyautogui\n",
    "import pyperclip\n",
    "import webbrowser\n",
    "import time\n",
    "\n",
    "destinatario = \"costasantos.gilmar@gmail.com\"\n",
    "assunto = \"Análises do Projeto 2020\"\n",
    "\n",
    "mensagem = f\"\"\"\n",
    "Prezado Gestor,\n",
    "\n",
    "Seguem as análises solicitadas da ação {ticker}:\n",
    "\n",
    "Cotação Máxima: R${maxima}\n",
    "Cotação Mínima: R${minima}\n",
    "Valor Médio: R${valor_medio}\n",
    "\n",
    "Qualquer dúvida estou a disposição!\n",
    "\n",
    "Att.\n",
    "Gilmar Santos\n",
    "\"\"\"\n",
    "\n",
    "# abrir o navegador e ir para o gmail\n",
    "webbrowser.open('www.gmail.com')\n",
    "time.sleep(5)\n",
    "\n",
    "# configurando uma pausa de 3 segs\n",
    "pyautogui.PAUSE = 3\n",
    "\n",
    "# clicar no botão escrever\n",
    "pyautogui.click(x=57, y=181)\n",
    "\n",
    "time.sleep(2)\n",
    "\n",
    "# digitar o email do destinatário e teclar TAB\n",
    "pyperclip.copy(destinatario)\n",
    "pyautogui.hotkey(\"ctrl\", \"v\")\n",
    "pyautogui.hotkey(\"tab\")\n",
    "\n",
    "# digitar o assunto do email\n",
    "pyperclip.copy(assunto)\n",
    "pyautogui.hotkey(\"ctrl\", \"v\")\n",
    "pyautogui.hotkey(\"tab\")\n",
    "\n",
    "# digitar a mensagem\n",
    "pyperclip.copy(mensagem)\n",
    "pyautogui.hotkey(\"ctrl\", \"v\")\n",
    "\n",
    "# clicar no botão enviar\n",
    "pyautogui.click(x=983, y=859)"
   ]
  },
  {
   "cell_type": "code",
   "execution_count": 19,
   "metadata": {},
   "outputs": [
    {
     "data": {
      "text/plain": [
       "Point(x=983, y=859)"
      ]
     },
     "execution_count": 19,
     "metadata": {},
     "output_type": "execute_result"
    }
   ],
   "source": [
    "time.sleep(5)\n",
    "pyautogui.position()"
   ]
  }
 ],
 "metadata": {
  "kernelspec": {
   "display_name": "Python 3",
   "language": "python",
   "name": "python3"
  },
  "language_info": {
   "codemirror_mode": {
    "name": "ipython",
    "version": 3
   },
   "file_extension": ".py",
   "mimetype": "text/x-python",
   "name": "python",
   "nbconvert_exporter": "python",
   "pygments_lexer": "ipython3",
   "version": "3.10.11"
  },
  "orig_nbformat": 4
 },
 "nbformat": 4,
 "nbformat_minor": 2
}
